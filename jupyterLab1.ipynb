{
 "cells": [
  {
   "cell_type": "markdown",
   "id": "b44912f0-c8e6-4271-816f-302e7b41ccee",
   "metadata": {},
   "source": [
    "# My Jupyter Notebook on IBM Watson Studio"
   ]
  },
  {
   "cell_type": "markdown",
   "id": "05d6adca-310e-4db3-b0d1-bf6d48d774e8",
   "metadata": {},
   "source": [
    "**Chloë Blake**\n",
    "\n",
    "Student at the University of Arizona"
   ]
  },
  {
   "cell_type": "markdown",
   "id": "415a6f93-612c-44fc-ad9f-cb649adc18b3",
   "metadata": {},
   "source": [
    "*I am interested in data science because I enjoy studying mathematics and computer science; I would like to see how the skills I am learning can be applied.*"
   ]
  },
  {
   "cell_type": "markdown",
   "id": "04513988-53b8-4b8f-837d-25f8e527dd13",
   "metadata": {},
   "source": [
    "### My code will get two numbers from the user and print out the product of those two numbers."
   ]
  },
  {
   "cell_type": "code",
   "execution_count": null,
   "id": "ca883941-920a-47d6-9afa-5df081d6cf62",
   "metadata": {},
   "outputs": [],
   "source": [
    "n1 = int(input(\"Please enter a number.\"))\n",
    "n2 = int(input(\"Please enter a second number.\"))\n",
    "product = n1 * n2\n",
    "print(\"The product of your numbers is \" + str(product))"
   ]
  },
  {
   "cell_type": "markdown",
   "id": "c21cb139-ec86-4c5d-bbde-0a653f1db057",
   "metadata": {},
   "source": [
    "**What university mathematics courses have I taken?**\n",
    "***\n",
    "1. MATH 129\n",
    "2. MATH 223\n",
    "3. MATH 313\n",
    "4. MATH 323\n",
    "5. MATH 355\n",
    "6. MATH 413\n",
    "7. MATH 464\n",
    "\n",
    "**Course Details**\n",
    "***\n",
    "| MATH Course Code | Course Title | Credit |\n",
    "| :--------------: | -----------: | :----: |\n",
    "| 129 | Calculus II  | 3 |\n",
    "| 223 | Vector Calculus | 4 |\n",
    "| 313 | Introduction to Linear Algebra | 3 |\n",
    "| 323 | Formal Mathematical Reasoning and Writing | 3 |\n",
    "| 355 | Analysis Ordinary Differential Equations | 3 |\n",
    "| 413 | Linear Algebra | 3 |\n",
    "| 464 | Theory of Probability | 3 |"
   ]
  }
 ],
 "metadata": {
  "kernelspec": {
   "display_name": "Python 3 (ipykernel)",
   "language": "python",
   "name": "python3"
  },
  "language_info": {
   "codemirror_mode": {
    "name": "ipython",
    "version": 3
   },
   "file_extension": ".py",
   "mimetype": "text/x-python",
   "name": "python",
   "nbconvert_exporter": "python",
   "pygments_lexer": "ipython3",
   "version": "3.9.13"
  }
 },
 "nbformat": 4,
 "nbformat_minor": 5
}
