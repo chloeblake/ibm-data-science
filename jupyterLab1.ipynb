{
 "cells": [
  {
   "cell_type": "markdown",
   "id": "b44912f0-c8e6-4271-816f-302e7b41ccee",
   "metadata": {},
   "source": [
    "# My Jupyter Notebook on IBM Watson Studio"
   ]
  },
  {
   "cell_type": "markdown",
   "id": "05d6adca-310e-4db3-b0d1-bf6d48d774e8",
   "metadata": {},
   "source": [
    "**Chloë Blake**\n",
    "\n",
    "Student at the University of Arizona"
   ]
  },
  {
   "cell_type": "markdown",
   "id": "415a6f93-612c-44fc-ad9f-cb649adc18b3",
   "metadata": {},
   "source": [
    "*I am interested in data science because I enjoy studying mathematics and computer science; I would like to see how the skills I am learning can be applied.*"
   ]
  },
  {
   "cell_type": "markdown",
   "id": "04513988-53b8-4b8f-837d-25f8e527dd13",
   "metadata": {},
   "source": [
    "### My code will get two numbers from the user and print out the product of those two numbers."
   ]
  },
  {
   "cell_type": "code",
   "execution_count": null,
   "id": "ca883941-920a-47d6-9afa-5df081d6cf62",
   "metadata": {},
   "outputs": [],
   "source": [
    "n1 = int(input(\"Please enter a number.\"))\n",
    "n2 = int(input(\"Please enter a second number.\"))\n",
    "product = n1 * n2\n",
    "print(\"The product of your numbers is \" + str(product))"
   ]
  },
  {
   "cell_type": "markdown",
   "id": "c21cb139-ec86-4c5d-bbde-0a653f1db057",
   "metadata": {},
   "source": [
    "**What university mathematics courses have I taken?**\n",
    "***\n",
    "1. MATH 129\n",
    "2. MATH 223\n",
    "3. MATH 313\n",
    "4. MATH 323\n",
    "5. MATH 355\n",
    "6. MATH 413\n",
    "7. MATH 464\n",
    "\n",
    "**Course Details**\n",
    "***\n",
    "| MATH Course Code | Course Title | Credit |\n",
    "| :--------------: | -----------: | :----: |\n",
    "| 129 | Calculus II  | 3 |\n",
    "| 223 | Vector Calculus | 4 |\n",
    "| 313 | Introduction to Linear Algebra | 3 |\n",
    "| 323 | Formal Mathematical Reasoning and Writing | 3 |\n",
    "| 355 | Analysis Ordinary Differential Equations | 3 |\n",
    "| 413 | Linear Algebra | 3 |\n",
    "| 464 | Theory of Probability | 3 |"
   ]
  },
  {
   "cell_type": "markdown",
   "id": "07d71c91-1009-48ac-8292-8eaa57165470",
   "metadata": {},
   "source": [
    "***\n",
    "## THIS MARKS THE END OF THE ORIGINALLY SPECIFIED INSTRUCTIONS.\n",
    "\n",
    "## I have followed the instructions included in the \"Assignments\" tab below.\n",
    "***"
   ]
  },
  {
   "cell_type": "markdown",
   "id": "69d63a82-ac63-40f3-84c9-812286612e8c",
   "metadata": {},
   "source": [
    "# My First Jupyter Notebook"
   ]
  },
  {
   "cell_type": "markdown",
   "id": "22d5e116-bf39-4041-8f8f-209b7e5a9d44",
   "metadata": {},
   "source": [
    "My name is Chloë Blake, and this is my first time using Jupyter Lab. Above, I have followed a set of instructions that was provided before the instructions listed in the assignment. This concludes my introduction."
   ]
  },
  {
   "cell_type": "markdown",
   "id": "b572973a-310f-4cdc-96a6-2ed27755d058",
   "metadata": {},
   "source": [
    "**The following are popular languages for data science:**\n",
    "1. Python\n",
    "2. R\n",
    "3. SQL"
   ]
  },
  {
   "cell_type": "markdown",
   "id": "657dcbc7-8e5a-4d51-ad7f-44f51fbddae0",
   "metadata": {},
   "source": [
    "**The following are popular libraries for data science:**\n",
    "1. NumPy\n",
    "2. Pandas\n",
    "3. Matplotlib"
   ]
  },
  {
   "cell_type": "markdown",
   "id": "ec368f5f-42cc-41e5-b76b-ecb7c44aa58d",
   "metadata": {},
   "source": [
    "**The following are popular tools for data science:**\n",
    "1. Jupyter Lab\n",
    "2. Apache Hadoop\n",
    "3. MATLAB"
   ]
  },
  {
   "cell_type": "markdown",
   "id": "a816dd91-7abb-4e81-835e-e842f45bc179",
   "metadata": {},
   "source": [
    "**The following are examples of arithmetic expressions:**\n",
    "+ Addition: 1 + 1\n",
    "+ Subtraction: 1 - 1\n",
    "+ Multiplication: 1 * 1\n",
    "+ Division: 1 / 1"
   ]
  },
  {
   "cell_type": "markdown",
   "id": "98f7d770-77c6-4f3a-a7b4-d777aa4a81e5",
   "metadata": {},
   "source": [
    "**The following code multiplies and adds numbers:**"
   ]
  },
  {
   "cell_type": "code",
   "execution_count": null,
   "id": "0fc5ecd5-3307-4adb-a74e-2270d15efe2b",
   "metadata": {},
   "outputs": [],
   "source": [
    "n1 = int(input(\"Please enter a number.\"))\n",
    "n2 = int(input(\"Please enter a second number.\"))\n",
    "product = n1 * n2\n",
    "sum = n1 + n2\n",
    "print(\"The product of your numbers is \" + str(product))\n",
    "print(\"The sum of your numbers is \" + str(sum))"
   ]
  },
  {
   "cell_type": "markdown",
   "id": "cf75fbb6-2e5f-40be-96b2-cb402b1cdcc1",
   "metadata": {},
   "source": [
    "**The following code converts minutes to hours:**"
   ]
  },
  {
   "cell_type": "code",
   "execution_count": null,
   "id": "efa1216b-be92-44d6-901a-1b52e7cf503d",
   "metadata": {},
   "outputs": [],
   "source": [
    "mins = input(\"Please enter a number of minutes.\")\n",
    "hours = int(mins) / 60\n",
    "print(mins + \" minutes is equal to \" + str(hours) + \" hour(s).\")"
   ]
  },
  {
   "cell_type": "markdown",
   "id": "c5e3ef56-bb82-4e92-9232-5cfd31ec4431",
   "metadata": {},
   "source": [
    "**The following is a list of ten objectives:**\n",
    "+ complete this data science course by May 26th\n",
    "+ actually do some data science!\n",
    "+ start some self-learning in combinatorics\n",
    "+ complete three more REU applications\n",
    "+ practice leetcode\n",
    "+ pick my classes for next fall\n",
    "+ decide whether I want to study abroad next spring\n",
    "+ make travel plans for this spring break\n",
    "+ make summer travel plans\n",
    "+ fix the button on my shirt"
   ]
  },
  {
   "cell_type": "markdown",
   "id": "8328bf68-aa74-4463-a19b-8b2ce776e97f",
   "metadata": {},
   "source": [
    "## Author: Chloë Blake"
   ]
  }
 ],
 "metadata": {
  "kernelspec": {
   "display_name": "Python 3 (ipykernel)",
   "language": "python",
   "name": "python3"
  },
  "language_info": {
   "codemirror_mode": {
    "name": "ipython",
    "version": 3
   },
   "file_extension": ".py",
   "mimetype": "text/x-python",
   "name": "python",
   "nbconvert_exporter": "python",
   "pygments_lexer": "ipython3",
   "version": "3.9.13"
  }
 },
 "nbformat": 4,
 "nbformat_minor": 5
}
